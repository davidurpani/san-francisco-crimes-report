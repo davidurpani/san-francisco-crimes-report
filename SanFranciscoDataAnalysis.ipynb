{
 "cells": [
  {
   "cell_type": "markdown",
   "metadata": {},
   "source": [
    "# San Francisco crimes analysis"
   ]
  },
  {
   "cell_type": "markdown",
   "metadata": {},
   "source": [
    "## Imports and reading data set"
   ]
  },
  {
   "cell_type": "code",
   "execution_count": 128,
   "metadata": {
    "collapsed": false
   },
   "outputs": [],
   "source": [
    "import matplotlib.pyplot as plt\n",
    "import pandas as pd\n",
    "import numpy as np\n",
    "\n",
    "ds = pd.read_csv(\"data/sanfrancisco_incidents_summer_2014.csv\", parse_dates=[\"Date\"])"
   ]
  },
  {
   "cell_type": "markdown",
   "metadata": {},
   "source": [
    "## Crimes and arrests number per day"
   ]
  },
  {
   "cell_type": "code",
   "execution_count": null,
   "metadata": {
    "collapsed": true
   },
   "outputs": [],
   "source": [
    "crimes_per_day = ds.pivot_table(\"IncidntNum\", aggfunc=\"count\", index='Date')\n",
    "\n",
    "arrests = ds[(ds.Resolution == 'ARREST, BOOKED') | (ds.Resolution == 'ARREST, CITED')]\n",
    "arrests_per_day = arrests.pivot_table(\"IncidntNum\", aggfunc='count', index='Date')\n",
    "\n",
    "fig, ax = plt.subplots(2, 1, figsize=(16, 8), sharex=True)\n",
    "fig.subplots_adjust(hspace=0.1)\n",
    "\n",
    "color_cycle = plt.rcParams['axes.color_cycle']\n",
    "with pd.plot_params.use('x_compat', True):\n",
    "    crimes_per_day.plot(ax=ax[0], title=\"Number of crimes\", ylim=(200, 450), color=color_cycle[0])\n",
    "    arrests_per_day.plot(ax=ax[1], title=\"Number of arrests\", ylim=(0, 150), color=color_cycle[1])\n",
    "\n",
    "fig.savefig('figs/daily_trend.png', bbox_inches='tight')"
   ]
  },
  {
   "cell_type": "markdown",
   "metadata": {},
   "source": [
    "## Crimes number for 10 top common categories"
   ]
  },
  {
   "cell_type": "code",
   "execution_count": 127,
   "metadata": {
    "collapsed": false
   },
   "outputs": [
    {
     "name": "stderr",
     "output_type": "stream",
     "text": [
      "/usr/local/lib/python2.7/dist-packages/ipykernel/__main__.py:6: FutureWarning: sort(columns=....) is deprecated, use sort_values(by=.....)\n",
      "/usr/local/lib/python2.7/dist-packages/ipykernel/__main__.py:8: FutureWarning: sort(columns=....) is deprecated, use sort_values(by=.....)\n"
     ]
    }
   ],
   "source": [
    "crimes_per_cat = ds.pivot_table(\"IncidntNum\", aggfunc=\"count\", index='Category')\n",
    "arrests_per_cat = arrests.pivot_table(\"IncidntNum\", aggfunc='count', index='Category')\n",
    "\n",
    "per_cat = pd.DataFrame({\"crimes_per_cat\": crimes_per_cat, \"arrests_per_cat\": arrests_per_cat})\n",
    "per_cat = per_cat.fillna(0)\n",
    "per_cat = per_cat.sort('crimes_per_cat', ascending=False).head(10)\n",
    "per_cat[\"arrests_perc\"] = per_cat.arrests_per_cat * 100 / per_cat.crimes_per_cat\n",
    "per_cat = per_cat.sort('arrests_perc', ascending=True)\n",
    "per_cat = per_cat.drop('crimes_per_cat', 1)\n",
    "per_cat = per_cat.drop('arrests_per_cat', 1)\n",
    "\n",
    "ax = per_cat.plot(kind=\"bar\", alpha=0.7)\n",
    "ax.legend().set_visible(False)\n",
    "\n",
    "plt.xlabel('Top 10 common crimes')\n",
    "plt.ylabel('Percentage of arrests [%]')\n",
    "plt.savefig('figs/arrests_perc_per_cat.png', bbox_inches='tight')\n"
   ]
  },
  {
   "cell_type": "markdown",
   "metadata": {},
   "source": [
    "## Number of arrests per week for missing person and vehicle theft"
   ]
  },
  {
   "cell_type": "code",
   "execution_count": 135,
   "metadata": {
    "collapsed": false
   },
   "outputs": [],
   "source": [
    "top_cat = ds[(ds.Category == 'MISSING PERSON') | (ds.Category == 'VEHICLE THEFT')]\n",
    "\n",
    "crimes_per_day_of_week = top_cat.pivot_table(\"IncidntNum\", columns=[\"Category\"], aggfunc=\"count\", index='DayOfWeek')\n",
    "crimes_per_day_of_week = crimes_per_day_of_week.reindex(index = [\"Monday\", \"Tuesday\", \"Wednesday\", \"Thursday\", \"Friday\", \"Saturday\", \"Sunday\"])\n",
    "\n",
    "ax = pd.DataFrame(crimes_per_day_of_week).plot(kind=\"bar\", alpha=0.7)\n",
    "ax.legend(loc='upper center', bbox_to_anchor=(0.5, 1.05),\n",
    "          ncol=3, fancybox=True, shadow=True)\n",
    "\n",
    "plt.xlabel('Day of week')\n",
    "plt.ylabel('Number of arrests')\n",
    "\n",
    "plt.savefig('figs/top_crimes_per_week.png', bbox_inches='tight')\n"
   ]
  }
 ],
 "metadata": {
  "kernelspec": {
   "display_name": "Python 2",
   "language": "python",
   "name": "python2"
  },
  "language_info": {
   "codemirror_mode": {
    "name": "ipython",
    "version": 2
   },
   "file_extension": ".py",
   "mimetype": "text/x-python",
   "name": "python",
   "nbconvert_exporter": "python",
   "pygments_lexer": "ipython2",
   "version": "2.7.6"
  }
 },
 "nbformat": 4,
 "nbformat_minor": 0
}
