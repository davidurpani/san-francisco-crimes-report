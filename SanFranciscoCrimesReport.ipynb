{
 "cells": [
  {
   "cell_type": "markdown",
   "metadata": {},
   "source": [
    "# Missing person and vehicle theft are the most common crimes without arrest resolution in San Francisco"
   ]
  },
  {
   "cell_type": "markdown",
   "metadata": {},
   "source": [
    "The considered data set consists of crime incidents that have happened during the summer of 2014 in San Francisco. During this analysis, I would like to answer a few questions:\n",
    "- How many crimes were arrest resolution?\n",
    "- Which of the most common crimes have poor percentage of positive resolutions (arrests)?\n",
    "- Is there any relation between day of week and number of crimes?"
   ]
  },
  {
   "cell_type": "code",
   "execution_count": null,
   "metadata": {
    "collapsed": true
   },
   "outputs": [],
   "source": [
    "import matplotlib.pyplot as plt\n",
    "import pandas as pd\n",
    "import numpy as np\n",
    "\n",
    "ds = pd.read_csv(\"data/sanfrancisco_incidents_summer_2014.csv\", parse_dates=[\"Date\"])"
   ]
  },
  {
   "cell_type": "markdown",
   "metadata": {},
   "source": [
    "## Crimes and arrests number per day"
   ]
  },
  {
   "cell_type": "code",
   "execution_count": null,
   "metadata": {
    "collapsed": true
   },
   "outputs": [],
   "source": [
    "crimes_per_day = ds.pivot_table(\"IncidntNum\", aggfunc=\"count\", index='Date')\n",
    "\n",
    "arrests = ds[(ds.Resolution == 'ARREST, BOOKED') | (ds.Resolution == 'ARREST, CITED')]\n",
    "arrests_per_day = arrests.pivot_table(\"IncidntNum\", aggfunc='count', index='Date')\n",
    "\n",
    "fig, ax = plt.subplots(2, 1, figsize=(16, 8), sharex=True)\n",
    "fig.subplots_adjust(hspace=0.1)\n",
    "\n",
    "color_cycle = plt.rcParams['axes.color_cycle']\n",
    "with pd.plot_params.use('x_compat', True):\n",
    "    crimes_per_day.plot(ax=ax[0], title=\"Number of crimes\", ylim=(200, 450), color=color_cycle[0])\n",
    "    arrests_per_day.plot(ax=ax[1], title=\"Number of arrests\", ylim=(0, 150), color=color_cycle[1])\n",
    "\n",
    "fig.savefig('figs/daily_trend.png', bbox_inches='tight')"
   ]
  },
  {
   "cell_type": "markdown",
   "metadata": {},
   "source": [
    "On the following chart, the number of crimes and the number of arrests per day was presented."
   ]
  },
  {
   "cell_type": "markdown",
   "metadata": {},
   "source": [
    "![Alt text](files/figs/daily_trend.png)\n",
    "<small><i><a href=\"SanFranciscoDataAnalysis.ipynb#Crimes-and-arrests-number-per-day\">figure source</a></i></small>"
   ]
  },
  {
   "cell_type": "markdown",
   "metadata": {},
   "source": [
    "As it can be noted, the number of arrests seems to be correlated with the number of crimes. On the other hand there are also days, when the number of crimes increases suddenly, but number of arrests does not change significantly. It may suggests that for some cases, the effectiveness in punishing criminals decreases."
   ]
  },
  {
   "cell_type": "markdown",
   "metadata": {},
   "source": [
    "## Crimes number for top 10 the most common categories"
   ]
  },
  {
   "cell_type": "code",
   "execution_count": null,
   "metadata": {
    "collapsed": true
   },
   "outputs": [],
   "source": [
    "crimes_per_cat = ds.pivot_table(\"IncidntNum\", aggfunc=\"count\", index='Category')\n",
    "arrests_per_cat = arrests.pivot_table(\"IncidntNum\", aggfunc='count', index='Category')\n",
    "\n",
    "per_cat = pd.DataFrame({\"crimes_per_cat\": crimes_per_cat, \"arrests_per_cat\": arrests_per_cat})\n",
    "per_cat = per_cat.fillna(0)\n",
    "per_cat = per_cat.sort('crimes_per_cat', ascending=False).head(10)\n",
    "per_cat[\"arrests_perc\"] = per_cat.arrests_per_cat * 100 / per_cat.crimes_per_cat\n",
    "per_cat = per_cat.sort('arrests_perc', ascending=True)\n",
    "per_cat = per_cat.drop('crimes_per_cat', 1)\n",
    "per_cat = per_cat.drop('arrests_per_cat', 1)\n",
    "\n",
    "ax = per_cat.plot(kind=\"bar\", alpha=0.7)\n",
    "ax.legend().set_visible(False)\n",
    "\n",
    "plt.xlabel('Top 10 common crimes')\n",
    "plt.ylabel('Percentage of arrests [%]')\n",
    "plt.savefig('figs/arrests_perc_per_cat.png', bbox_inches='tight')"
   ]
  },
  {
   "cell_type": "markdown",
   "metadata": {},
   "source": [
    "In order to find out which of the most common crimes categories have the smallest percentage of arrests, the percentage of arrests for the top 10 most common crimes (with the larger number of crimes) was presented on the following figure.\n",
    "\n",
    "![Alt text](files/figs/arrests_perc_per_cat.png)\n",
    "<small><i><a href=\"SanFranciscoDataAnalysis.ipynb#Crimes-number-for-10-top-common-categories\">figure source</a></i></small>\n",
    "\n",
    "What is very interesting on this figure is that missing person and vehicle theft - crimes which seems to be very \n",
    "serious - have very small of percentage of arrests. On the other hand other serious crimes like assault or drug/narcotic are much more often resolve with arrests."
   ]
  },
  {
   "cell_type": "markdown",
   "metadata": {},
   "source": [
    "## Number of arrests per week for missing person and vehicle theft"
   ]
  },
  {
   "cell_type": "code",
   "execution_count": null,
   "metadata": {
    "collapsed": true
   },
   "outputs": [],
   "source": [
    "top_cat = ds[(ds.Category == 'MISSING PERSON') | (ds.Category == 'VEHICLE THEFT')]\n",
    "\n",
    "crimes_per_day_of_week = top_cat.pivot_table(\"IncidntNum\", columns=[\"Category\"], aggfunc=\"count\", index='DayOfWeek')\n",
    "crimes_per_day_of_week = crimes_per_day_of_week.reindex(index = [\"Monday\", \"Tuesday\", \"Wednesday\", \"Thursday\", \"Friday\", \"Saturday\", \"Sunday\"])\n",
    "\n",
    "ax = pd.DataFrame(crimes_per_day_of_week).plot(kind=\"bar\", alpha=0.7)\n",
    "ax.legend(loc='upper center', bbox_to_anchor=(0.5, 1.05),\n",
    "          ncol=3, fancybox=True, shadow=True)\n",
    "\n",
    "plt.xlabel('Day of week')\n",
    "plt.ylabel('Number of arrests')\n",
    "\n",
    "plt.savefig('figs/top_crimes_per_week.png', bbox_inches='tight')"
   ]
  },
  {
   "cell_type": "markdown",
   "metadata": {},
   "source": [
    "On the last figure, the number of arrests per week was presented for missing person and vehicle theft categories.\n",
    "\n",
    "![Alt text](files/figs/top_crimes_per_week.png)\n",
    "<small><i><a href=\"SanFranciscoDataAnalysis.ipynb#Number-of-arrests-per-week-for-missing-person-and-vehicle-theft\">figure source</a></i></small>\n",
    "\n",
    "As it can be seen, the number of arrests seems to be larger for Sundays in case of vehicle thefts. On the other hand the number of accidents related to missing people increases only during working days. However, it is difficult to discern any patterns of behaviours in this case."
   ]
  },
  {
   "cell_type": "code",
   "execution_count": null,
   "metadata": {
    "collapsed": true
   },
   "outputs": [],
   "source": []
  }
 ],
 "metadata": {
  "kernelspec": {
   "display_name": "Python 2",
   "language": "python",
   "name": "python2"
  },
  "language_info": {
   "codemirror_mode": {
    "name": "ipython",
    "version": 2
   },
   "file_extension": ".py",
   "mimetype": "text/x-python",
   "name": "python",
   "nbconvert_exporter": "python",
   "pygments_lexer": "ipython2",
   "version": "2.7.6"
  }
 },
 "nbformat": 4,
 "nbformat_minor": 0
}
