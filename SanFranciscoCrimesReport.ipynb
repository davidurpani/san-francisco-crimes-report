{
 "cells": [
  {
   "cell_type": "markdown",
   "metadata": {},
   "source": [
    "# Missing person and vehicle theft are the most common crimes without arrest resolution in San Francisco"
   ]
  },
  {
   "cell_type": "markdown",
   "metadata": {},
   "source": [
    "The considered data set consists of crime incidents that have happened during the summer of 2014 in San Francisco. During this analysis, I would like to answer a few questions:\n",
    "- How many crimes were arrest resolution?\n",
    "- Which of the most common crimes have poor percentage of positive resolutions (arrests)?\n",
    "- Is there any relation between day of week and number of crimes?"
   ]
  },
  {
   "cell_type": "markdown",
   "metadata": {},
   "source": [
    "## Crimes and arrests number per day"
   ]
  },
  {
   "cell_type": "markdown",
   "metadata": {},
   "source": [
    "On the following chart, the number of crimes and the number of arrests per day was presented."
   ]
  },
  {
   "cell_type": "markdown",
   "metadata": {},
   "source": [
    "![Alt text](files/figs/daily_trend.png)\n",
    "<small><i><a href=\"SanFranciscoDataAnalysis.ipynb#Crimes-and-arrests-number-per-day\">figure source</a></i></small>"
   ]
  },
  {
   "cell_type": "markdown",
   "metadata": {},
   "source": [
    "As it can be noted, the number of arrests seems to be correlated with the number of crimes. On the other hand there are also days, when the number of crimes increases suddenly, but number of arrests does not change significantly. It may suggests that for some cases, the effectiveness in punishing criminals decreases."
   ]
  },
  {
   "cell_type": "markdown",
   "metadata": {},
   "source": [
    "## Crimes number for top 10 the most common categories"
   ]
  },
  {
   "cell_type": "markdown",
   "metadata": {},
   "source": [
    "In order to find out which of the most common crimes categories have the smallest percentage of arrests, the percentage of arrests for the top 10 most common crimes (with the larger number of crimes) was presented on the following figure.\n",
    "\n",
    "![Alt text](files/figs/arrests_perc_per_cat.png)\n",
    "<small><i><a href=\"SanFranciscoDataAnalysis.ipynb#Crimes-number-for-10-top-common-categories\">figure source</a></i></small>\n",
    "\n",
    "What is very interesting on this figure is that missing person and vehicle theft - crimes which seems to be very \n",
    "serious - have very small of percentage of arrests. On the other hand other serious crimes like assault or drug/narcotic are much more often resolve with arrests."
   ]
  },
  {
   "cell_type": "markdown",
   "metadata": {},
   "source": [
    "## Number of arrests per week for missing person and vehicle theft"
   ]
  },
  {
   "cell_type": "markdown",
   "metadata": {},
   "source": [
    "On the last figure, the number of arrests per week was presented for missing person and vehicle theft categories.\n",
    "\n",
    "![Alt text](files/figs/top_crimes_per_week.png)\n",
    "<small><i><a href=\"SanFranciscoDataAnalysis.ipynb#Number-of-arrests-per-week-for-missing-person-and-vehicle-theft\">figure source</a></i></small>\n",
    "\n",
    "As it can be seen, the number of arrests seems to be larger for Sundays in case of vehicle thefts. On the other hand the number of accidents related to missing people increases only during working days. However, it is difficult to discern any patterns of behaviours in this case."
   ]
  },
  {
   "cell_type": "code",
   "execution_count": null,
   "metadata": {
    "collapsed": true
   },
   "outputs": [],
   "source": []
  }
 ],
 "metadata": {
  "kernelspec": {
   "display_name": "Python 2",
   "language": "python",
   "name": "python2"
  },
  "language_info": {
   "codemirror_mode": {
    "name": "ipython",
    "version": 2
   },
   "file_extension": ".py",
   "mimetype": "text/x-python",
   "name": "python",
   "nbconvert_exporter": "python",
   "pygments_lexer": "ipython2",
   "version": "2.7.6"
  }
 },
 "nbformat": 4,
 "nbformat_minor": 0
}
